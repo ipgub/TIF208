{
 "cells": [
  {
   "cell_type": "code",
   "execution_count": 1,
   "metadata": {},
   "outputs": [],
   "source": [
    "from sk_dsp_comm import *       # import every modules from the library\n",
    "from numpy import *\n",
    "from matplotlib.pyplot import *\n"
   ]
  },
  {
   "cell_type": "code",
   "execution_count": 2,
   "metadata": {},
   "outputs": [],
   "source": [
    "#####################################################\n",
    "#\n",
    "# create discrete time axis\n",
    "n = arange(-5, 15)"
   ]
  },
  {
   "cell_type": "code",
   "execution_count": 3,
   "metadata": {},
   "outputs": [],
   "source": [
    "#####################################################\n",
    "#\n",
    "# create discrete time signals using sigsys module 'dstep'\n",
    "x1 = sigsys.dstep(n)    # create DTS step function turns on at n = 0\n",
    "x2 = sigsys.dstep(n-5)  # create DTS step function turns on at n = 5"
   ]
  },
  {
   "cell_type": "code",
   "execution_count": 4,
   "metadata": {},
   "outputs": [],
   "source": [
    "\n",
    "# Third signal - difference\n",
    "x3 = x1 - x2"
   ]
  },
  {
   "cell_type": "code",
   "execution_count": 5,
   "metadata": {},
   "outputs": [
    {
     "data": {
      "image/png": "[encoded data removed]",
      "text/plain": [
       "<Figure size 432x288 with 3 Axes>"
      ]
     },
     "metadata": {
      "needs_background": "light"
     },
     "output_type": "display_data"
    }
   ],
   "source": [
    "# First, create figure environment for the plot\n",
    "fig, ax = subplots(3,figsize=(15,15))\n",
    "fig.suptitle('Discrete time signal')\n",
    "# Plot the signal using stem function\n",
    "ax[0].stem(n, x1, use_line_collection=True)\n",
    "# Add some additional features to the figure such as grid, label, etc\n",
    "# ax[0].grid()                       # add gridt\n",
    "ax[0].axis([ -5, 15, -0.1, 1.1])  # define the x and y axis of the plo\n",
    "ax[0].set_xticks(n+1)\n",
    "\n",
    "# second DTS\n",
    "ax[1].stem(n, x2, use_line_collection=True)\n",
    "# ax[1].grid()                       # add grid\n",
    "ax[1].axis([ -5, 15, -0.1, 1.1])  # define the x and y axis of the plot\n",
    "ax[1].set_xticks(n+1)\n",
    "\n",
    "# Third DTS = difference between x1 and x2\n",
    "ax[2].stem(n,x3, use_line_collection=True)\n",
    "ax[2].axis([ -5, 15, -0.1, 1.1])\n",
    "ax[2].set_xticks(n+1)\n",
    "\n",
    "i = 1\n",
    "for axs in ax.flat:\n",
    "    axs.set(xlabel=r'Index - $n$', ylabel=r'$x_{idx:d}[n]$'.format(idx=i))\n",
    "    i=i+1\n",
    "    \n",
    "# We can also save the figure to the file\n",
    "savefig('mysignal.png')\n",
    "\n",
    "# In the notebook, the command savefig must be put in the same cell with the plot command"
   ]
  },
  {
   "cell_type": "code",
   "execution_count": null,
   "metadata": {},
   "outputs": [],
   "source": []
  }
 ],
 "metadata": {
  "kernelspec": {
   "display_name": "Python 3",
   "language": "python",
   "name": "python3"
  },
  "language_info": {
   "codemirror_mode": {
    "name": "ipython",
    "version": 3
   },
   "file_extension": ".py",
   "mimetype": "text/x-python",
   "name": "python",
   "nbconvert_exporter": "python",
   "pygments_lexer": "ipython3",
   "version": "3.8.3"
  }
 },
 "nbformat": 4,
 "nbformat_minor": 4
}
